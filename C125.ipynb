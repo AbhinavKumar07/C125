{
  "nbformat": 4,
  "nbformat_minor": 0,
  "metadata": {
    "colab": {
      "provenance": [],
      "authorship_tag": "ABX9TyPsOPOYwKF2CGc05IuJS2/2",
      "include_colab_link": true
    },
    "kernelspec": {
      "name": "python3",
      "display_name": "Python 3"
    },
    "language_info": {
      "name": "python"
    }
  },
  "cells": [
    {
      "cell_type": "markdown",
      "metadata": {
        "id": "view-in-github",
        "colab_type": "text"
      },
      "source": [
        "<a href=\"https://colab.research.google.com/github/AbhinavKumar07/C125/blob/main/C125.ipynb\" target=\"_parent\"><img src=\"https://colab.research.google.com/assets/colab-badge.svg\" alt=\"Open In Colab\"/></a>"
      ]
    },
    {
      "cell_type": "code",
      "execution_count": 63,
      "metadata": {
        "id": "eppAuX3wHxIn"
      },
      "outputs": [],
      "source": [
        "import numpy as np\n",
        "import random\n",
        "\n",
        "rewards = np.array([\n",
        "    [-1,-1,-1,-1,0,-1],\n",
        "    [-1,-1,-1,0,-1,100],\n",
        "    [-1,-1,-1,0,-1,-1],\n",
        "    [-1,0,0,-1,-1,-1],\n",
        "    [0,-1,-1,-1,-1,100],\n",
        "    [-1,-1,-1,-1,0,100]\n",
        "])\n",
        "\n"
      ]
    },
    {
      "cell_type": "code",
      "source": [
        "def set_initial_state():\n",
        "  return np.random.randint(0,6)\n",
        "\n",
        "set_initial_state()"
      ],
      "metadata": {
        "colab": {
          "base_uri": "https://localhost:8080/"
        },
        "id": "6I9_QO6uJL0G",
        "outputId": "d4c0f98f-5aec-44d4-a8f9-56d434dc8381"
      },
      "execution_count": 64,
      "outputs": [
        {
          "output_type": "execute_result",
          "data": {
            "text/plain": [
              "0"
            ]
          },
          "metadata": {},
          "execution_count": 64
        }
      ]
    },
    {
      "cell_type": "code",
      "source": [
        "def get_action(current_state , reward_matrix):\n",
        "  available_action = []\n",
        "  print(\"Reward_matrix\",\"\\n\" , reward_matrix)\n",
        "\n",
        "  for action in enumerate(reward_matrix[current_state]):\n",
        "    if action[1] != -1 :\n",
        "      available_action.append(action[0])\n",
        "\n",
        "  choose_action = random.choice(available_action)\n",
        "  print(\"Random choice of action from\" , available_action , \"is\" , choose_action)\n",
        "  return choose_action"
      ],
      "metadata": {
        "id": "gn3TLIgwJpjl"
      },
      "execution_count": 65,
      "outputs": []
    },
    {
      "cell_type": "code",
      "source": [
        "#current_state = 4\n",
        "#action = get_action(current_state , rewards)\n",
        "#print(action)"
      ],
      "metadata": {
        "id": "8JMRDF_CK_V2"
      },
      "execution_count": 66,
      "outputs": []
    },
    {
      "cell_type": "code",
      "source": [
        "current_state = 5\n",
        "action = get_action(current_state , rewards)\n",
        "print(action)"
      ],
      "metadata": {
        "colab": {
          "base_uri": "https://localhost:8080/"
        },
        "id": "RNCQHeKwLU4V",
        "outputId": "95aae8f1-751b-4eba-922b-96a265463aef"
      },
      "execution_count": 67,
      "outputs": [
        {
          "output_type": "stream",
          "name": "stdout",
          "text": [
            "Reward_matrix \n",
            " [[ -1  -1  -1  -1   0  -1]\n",
            " [ -1  -1  -1   0  -1 100]\n",
            " [ -1  -1  -1   0  -1  -1]\n",
            " [ -1   0   0  -1  -1  -1]\n",
            " [  0  -1  -1  -1  -1 100]\n",
            " [ -1  -1  -1  -1   0 100]]\n",
            "Random choice of action from [4, 5] is 4\n",
            "4\n"
          ]
        }
      ]
    },
    {
      "cell_type": "code",
      "source": [
        "#current_state = 0\n",
        "#action = get_action(current_state , rewards)\n",
        "#print(action)"
      ],
      "metadata": {
        "id": "qAUjx22bLr0j"
      },
      "execution_count": 68,
      "outputs": []
    },
    {
      "cell_type": "code",
      "source": [
        "#current_state = 1\n",
        "#action = get_action(current_state , rewards)\n",
        "#print(action)"
      ],
      "metadata": {
        "id": "_LVK4wgjLtqf"
      },
      "execution_count": 69,
      "outputs": []
    },
    {
      "cell_type": "markdown",
      "source": [
        "C125\n"
      ],
      "metadata": {
        "id": "Qlv1sub3DFqn"
      }
    },
    {
      "cell_type": "code",
      "source": [
        "q_matrix = np.zeros([6,6])\n",
        "print(q_matrix)\n"
      ],
      "metadata": {
        "colab": {
          "base_uri": "https://localhost:8080/"
        },
        "id": "8HO4Mbi0DGUh",
        "outputId": "8dcf396d-c1c3-4d28-c7e7-a4d759b011c6"
      },
      "execution_count": 70,
      "outputs": [
        {
          "output_type": "stream",
          "name": "stdout",
          "text": [
            "[[0. 0. 0. 0. 0. 0.]\n",
            " [0. 0. 0. 0. 0. 0.]\n",
            " [0. 0. 0. 0. 0. 0.]\n",
            " [0. 0. 0. 0. 0. 0.]\n",
            " [0. 0. 0. 0. 0. 0.]\n",
            " [0. 0. 0. 0. 0. 0.]]\n"
          ]
        }
      ]
    },
    {
      "cell_type": "code",
      "source": [
        "gamma = 0.8\n",
        "def take_action(current_state,reward_matrix,gamma):\n",
        "  action = get_action(current_state,reward_matrix)\n",
        "  current_reward = reward_matrix[current_state,action]\n",
        "  print(\"Current reward:\" , current_reward)\n",
        "\n",
        "  q_value = max(q_matrix[action])\n",
        "  print(\"q-value:\" , q_value)\n",
        "\n",
        "  q_current_state = current_reward + (gamma * q_value)\n",
        "  print(\"Q-current-state\",q_current_state)\n",
        "\n",
        "  q_matrix[current_state,action] = q_current_state\n",
        "  print(\"Q-matrix:\" ,\"\\n\" , q_matrix)\n",
        "\n",
        "  new_state = action\n",
        "\n",
        "take_action(current_state,rewards,gamma)"
      ],
      "metadata": {
        "colab": {
          "base_uri": "https://localhost:8080/"
        },
        "id": "15fdVYu4Ds_-",
        "outputId": "6426ed5a-5cc8-4f00-ccf1-9b3cda2b0075"
      },
      "execution_count": 71,
      "outputs": [
        {
          "output_type": "stream",
          "name": "stdout",
          "text": [
            "Reward_matrix \n",
            " [[ -1  -1  -1  -1   0  -1]\n",
            " [ -1  -1  -1   0  -1 100]\n",
            " [ -1  -1  -1   0  -1  -1]\n",
            " [ -1   0   0  -1  -1  -1]\n",
            " [  0  -1  -1  -1  -1 100]\n",
            " [ -1  -1  -1  -1   0 100]]\n",
            "Random choice of action from [4, 5] is 5\n",
            "Current reward: 100\n",
            "q-value: 0.0\n",
            "Q-current-state 100.0\n",
            "Q-matrix: \n",
            " [[  0.   0.   0.   0.   0.   0.]\n",
            " [  0.   0.   0.   0.   0.   0.]\n",
            " [  0.   0.   0.   0.   0.   0.]\n",
            " [  0.   0.   0.   0.   0.   0.]\n",
            " [  0.   0.   0.   0.   0.   0.]\n",
            " [  0.   0.   0.   0.   0. 100.]]\n"
          ]
        }
      ]
    }
  ]
}